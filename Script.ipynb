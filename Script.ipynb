{
  "nbformat": 4,
  "nbformat_minor": 0,
  "metadata": {
    "colab": {
      "provenance": [],
      "authorship_tag": "ABX9TyO0pxHZTakVdPqD7BNC0MPB",
      "include_colab_link": true
    },
    "kernelspec": {
      "name": "python3",
      "display_name": "Python 3"
    },
    "language_info": {
      "name": "python"
    }
  },
  "cells": [
    {
      "cell_type": "markdown",
      "metadata": {
        "id": "view-in-github",
        "colab_type": "text"
      },
      "source": [
        "<a href=\"https://colab.research.google.com/github/PeterSoojongHa/Verifying-Okuns-Law/blob/main/Script.ipynb\" target=\"_parent\"><img src=\"https://colab.research.google.com/assets/colab-badge.svg\" alt=\"Open In Colab\"/></a>"
      ]
    },
    {
      "cell_type": "markdown",
      "source": [
        "**Preface**\n",
        "\n",
        "I have encountered two schools of thought on how students should decide their field of study: to choose what they enjoy learning, and to choose what they are best at.\n",
        "\n",
        "Economics is the best of both worlds for me, as it offers elegantly simple laws that have been exciting to explore, as well as an opportunity to utilize my strengths in quantitative mathematics.\n",
        "\n",
        "I believe that Okun's law (the linear relationship between the % growth of unemployment and the % growth of real GDP) is a perfect example of this duality, as the seemingly simple theory can actually be verified using math and real-world data. As a result, I have decided to create this program in hopes of demonstrating both my skillset and ethusiasm for economics."
      ],
      "metadata": {
        "id": "Ccs5_0szTI80"
      }
    },
    {
      "cell_type": "markdown",
      "source": [
        "**Introduction**\n",
        "\n",
        "According to the [Encyclopedia Brittanica](https://www.britannica.com/biography/Arthur-M-Okun#ref1199250), Okun's law stipulates \"that for every 3 percent rise in the rate of economic growth above the economy’s long-term potential growth rate, unemployment would decrease by 1 percent.\" Although the ratio between the rise of economic growth (real GDP) and the decrease of unemployment has been modified since then, the linear relationship between the two variables has stood the test of time.\n",
        "\n",
        "This program will attempt to verify Okun's law by attempting to disprove its opposite, a hypothesis which we represent as H0. H0 claims that there is not a linear relationship between the change of unemployment and real GDP over time. In order to find the probability of H0 being true, this program will take real-world US unemployment data and RGDP (real GDP) data and organize it onto one dataframe. Then, the program will find the correlation coefficient of the two variables (a measure of how strong the two variables' linear relationship is) and use that value to find the p-value of H0 (the probability of such a strong correlation randomly occuring under the assumption that H0 is true, aka under the assumption that a linear relationship does not actually exist).\n",
        "\n",
        "If the probability of H0 being true (which is represented by the p-value) is less than 0.05, the program can confidently conclude that the event that *1. the data has such a strong correlation* AND *2. H0 is true* is statistically significant. Here, an event being statistically significant means that it is extremely unlikely to occur.\n",
        "\n",
        "Since the correlation of data has been quantitatively measured, it is assumed to be true. Then, a statistically significant event would indicate that our initial assumption that H0 is true is actually incorrect. As H0 is likely false, the program can now reject H0 and accept the opposite, or alternate, hypothesis (Ha). Here, Ha represents Okun's law, specifically the claim that there is a linear relationship between the change of unemployment and RGDP over time."
      ],
      "metadata": {
        "id": "K4IEDmiud4tm"
      }
    },
    {
      "cell_type": "code",
      "source": [
        "#Importing necessary modules\n",
        "import pandas as pd\n",
        "import numpy as np\n",
        "from scipy.stats import pearsonr"
      ],
      "metadata": {
        "id": "IieiP-kfnlx1"
      },
      "execution_count": null,
      "outputs": []
    },
    {
      "cell_type": "code",
      "source": [
        "#The significance level was set as a variable so that it can be modified to yield more accurate results.\n",
        "alpha_level = .05\n",
        "print(\"This program verifies Okun's law using recent US unemployment and real GDP data.\")\n",
        "print(\"It will conduct a hypothesis test to determine whether there is a linear relationship between US % Unemployment growth and Real GDP growth.\")\n",
        "print(\" \")\n",
        "print(\"H0: There is no linear relationship between US % Unemployment growth and Real GDP growth.\")\n",
        "print(\"Ha: There is a linear relationship between US % Unemployment growth and Real GDP growth.\")\n",
        "print(\"an alpha level of %s will be used to accept or reject H0\" % alpha_level)\n"
      ],
      "metadata": {
        "colab": {
          "base_uri": "https://localhost:8080/"
        },
        "id": "vSRTD4MkmQqN",
        "outputId": "3674ecdc-abe2-4f15-8533-e7e9892022f2"
      },
      "execution_count": null,
      "outputs": [
        {
          "output_type": "stream",
          "name": "stdout",
          "text": [
            "This program verifies Okun's law using recent US unemployment and real GDP data.\n",
            "It will conduct a hypothesis test to determine whether there is a linear relationship between US % Unemployment growth and Real GDP growth.\n",
            " \n",
            "H0: There is no linear relationship between US % Unemployment growth and Real GDP growth.\n",
            "Ha: There is a linear relationship between US % Unemployment growth and Real GDP growth.\n",
            "an alpha level of 0.05 will be used to accept or reject H0\n"
          ]
        }
      ]
    },
    {
      "cell_type": "code",
      "source": [
        "#DATA EXTRACTION\n",
        "#Data was sourced from https://www.kaggle.com/datasets/pavankrishnanarne/us-real-gdp-quarterly-data-1947-present and https://data.bls.gov/timeseries/LNS14000000. (converted from .xlxs to .csv)\n",
        "#In depth citations can be found on the \"Works Cited\" document.\n",
        "print(\" \")\n",
        "print(\"Extracting and organizing data...\")\n",
        "\n",
        "#Imports the last 40 quarters (10 years) of US real GDP data, and calculates their % growth.\n",
        "rgdp_data = pd.read_csv('RGDP.csv')\n",
        "rgdp_data[\"Prev RGDP\"] = rgdp_data.value.shift(1)\n",
        "rgdp_data[\"% growth (RGDP)\"] = (rgdp_data[\"value\"] / rgdp_data[\"Prev RGDP\"] - 1)\n",
        "rgdp_data = rgdp_data.drop(rgdp_data.index[:266])\n",
        "rgdp_data = rgdp_data.reset_index(drop=True)\n",
        "rgdp_data.drop(columns=[\"value\", \"Prev RGDP\"], inplace = True)\n",
        "\n",
        "#Imports/derives the last 10 quarters (10 years) of US unemployment data (converts monthly -> quarterly).\n",
        "unemp_data = pd.read_csv('Unemployment.csv')\n",
        "unemp_data = unemp_data.drop(unemp_data.index[:10])\n",
        "unemp_data.columns = unemp_data.iloc[0]\n",
        "unemp_data = unemp_data.rename_axis(\"Index\", axis=0)\n",
        "unemp_data = unemp_data.drop(unemp_data.index[0])\n",
        "unemp_data = unemp_data.reset_index(drop=True)\n",
        "unemp_data.drop(columns=['Feb','Mar', 'May', 'Jun', 'Aug', 'Sep', 'Nov', 'Dec'], inplace=True)\n",
        "\n",
        "#Organize US unemployment data in the same format as US real gdp data and calculates their % growth\n",
        "tp_unemp_data = unemp_data.transpose()\n",
        "tp_unemp_data.columns = tp_unemp_data.iloc[0]\n",
        "form_unemp_data = pd.concat([tp_unemp_data, tp_unemp_data.T.stack().reset_index(name='percent_unemployed')['percent_unemployed']], axis=1)\n",
        "form_unemp_data.drop(columns=['2013','2014', '2015', '2016', '2017', '2018', '2019', '2020', '2021', '2022', '2023'], inplace=True)\n",
        "form_unemp_data = form_unemp_data.drop(form_unemp_data.index[:7])\n",
        "form_unemp_data = form_unemp_data.drop(form_unemp_data.index[3:70:5])\n",
        "form_unemp_data = form_unemp_data.reset_index(drop=True)\n",
        "form_unemp_data[\"Prev unemp\"] = form_unemp_data.percent_unemployed.shift(1)\n",
        "form_unemp_data = form_unemp_data.drop(form_unemp_data.index[0])\n",
        "form_unemp_data['Prev unemp'] = form_unemp_data['Prev unemp'].astype(float)\n",
        "form_unemp_data['percent_unemployed'] = form_unemp_data['percent_unemployed'].astype(float)\n",
        "form_unemp_data[\"% growth (Unemployment)\"] = (form_unemp_data[\"percent_unemployed\"] / form_unemp_data[\"Prev unemp\"] - 1)\n",
        "form_unemp_data.drop(columns=[\"percent_unemployed\", \"Prev unemp\"], inplace = True)\n",
        "form_unemp_data = form_unemp_data.reset_index(drop=True)\n",
        "\n",
        "#Combine US RGDP and unemployment data onto one dataframe\n",
        "df = rgdp_data.join(form_unemp_data)\n",
        "df.set_index('date')\n",
        "df.drop(columns=[\"date\"], inplace = True)\n",
        "print(\"Data organization complete.\")\n",
        "\n",
        "#Gives the user the options to view the data as a table, a scatterplot, both, or neither.\n",
        "\n",
        "while True:\n",
        "    prompt1=input('Would you like to view the data as a table? (y/n)').lower()\n",
        "\n",
        "    if prompt1 == 'y':\n",
        "       print(df)\n",
        "       break\n",
        "    elif prompt1 == 'n':\n",
        "       break\n",
        "    else:\n",
        "       print('please input y (yes) or n (no)')\n",
        "\n",
        "    prompt2=input('Would you like to view the data as a scatterplot? (y/n)').lower()\n",
        "\n",
        "    if prompt2 == 'y':\n",
        "       print(df.plot.scatter)\n",
        "       break\n",
        "    elif prompt2 == 'n':\n",
        "       break\n",
        "    else:\n",
        "       print('please input y (yes) or n (no)')\n"
      ],
      "metadata": {
        "colab": {
          "base_uri": "https://localhost:8080/",
          "height": 415
        },
        "id": "7gbUDM4rmx4D",
        "outputId": "539079e5-161a-4898-9570-6b7d10b1a411"
      },
      "execution_count": null,
      "outputs": [
        {
          "output_type": "stream",
          "name": "stdout",
          "text": [
            " \n",
            "Extracting and organizing data...\n"
          ]
        },
        {
          "output_type": "error",
          "ename": "FileNotFoundError",
          "evalue": "ignored",
          "traceback": [
            "\u001b[0;31m---------------------------------------------------------------------------\u001b[0m",
            "\u001b[0;31mFileNotFoundError\u001b[0m                         Traceback (most recent call last)",
            "\u001b[0;32m<ipython-input-6-c1235cdf88ab>\u001b[0m in \u001b[0;36m<cell line: 8>\u001b[0;34m()\u001b[0m\n\u001b[1;32m      6\u001b[0m \u001b[0;34m\u001b[0m\u001b[0m\n\u001b[1;32m      7\u001b[0m \u001b[0;31m#Imports the last 40 quarters (10 years) of US real GDP data, and calculates their % growth.\u001b[0m\u001b[0;34m\u001b[0m\u001b[0;34m\u001b[0m\u001b[0m\n\u001b[0;32m----> 8\u001b[0;31m \u001b[0mrgdp_data\u001b[0m \u001b[0;34m=\u001b[0m \u001b[0mpd\u001b[0m\u001b[0;34m.\u001b[0m\u001b[0mread_csv\u001b[0m\u001b[0;34m(\u001b[0m\u001b[0;34m'RGDP.csv'\u001b[0m\u001b[0;34m)\u001b[0m\u001b[0;34m\u001b[0m\u001b[0;34m\u001b[0m\u001b[0m\n\u001b[0m\u001b[1;32m      9\u001b[0m \u001b[0mrgdp_data\u001b[0m\u001b[0;34m[\u001b[0m\u001b[0;34m\"Prev RGDP\"\u001b[0m\u001b[0;34m]\u001b[0m \u001b[0;34m=\u001b[0m \u001b[0mrgdp_data\u001b[0m\u001b[0;34m.\u001b[0m\u001b[0mvalue\u001b[0m\u001b[0;34m.\u001b[0m\u001b[0mshift\u001b[0m\u001b[0;34m(\u001b[0m\u001b[0;36m1\u001b[0m\u001b[0;34m)\u001b[0m\u001b[0;34m\u001b[0m\u001b[0;34m\u001b[0m\u001b[0m\n\u001b[1;32m     10\u001b[0m \u001b[0mrgdp_data\u001b[0m\u001b[0;34m[\u001b[0m\u001b[0;34m\"% growth (RGDP)\"\u001b[0m\u001b[0;34m]\u001b[0m \u001b[0;34m=\u001b[0m \u001b[0;34m(\u001b[0m\u001b[0mrgdp_data\u001b[0m\u001b[0;34m[\u001b[0m\u001b[0;34m\"value\"\u001b[0m\u001b[0;34m]\u001b[0m \u001b[0;34m/\u001b[0m \u001b[0mrgdp_data\u001b[0m\u001b[0;34m[\u001b[0m\u001b[0;34m\"Prev RGDP\"\u001b[0m\u001b[0;34m]\u001b[0m \u001b[0;34m-\u001b[0m \u001b[0;36m1\u001b[0m\u001b[0;34m)\u001b[0m\u001b[0;34m\u001b[0m\u001b[0;34m\u001b[0m\u001b[0m\n",
            "\u001b[0;32m/usr/local/lib/python3.10/dist-packages/pandas/util/_decorators.py\u001b[0m in \u001b[0;36mwrapper\u001b[0;34m(*args, **kwargs)\u001b[0m\n\u001b[1;32m    209\u001b[0m                 \u001b[0;32melse\u001b[0m\u001b[0;34m:\u001b[0m\u001b[0;34m\u001b[0m\u001b[0;34m\u001b[0m\u001b[0m\n\u001b[1;32m    210\u001b[0m                     \u001b[0mkwargs\u001b[0m\u001b[0;34m[\u001b[0m\u001b[0mnew_arg_name\u001b[0m\u001b[0;34m]\u001b[0m \u001b[0;34m=\u001b[0m \u001b[0mnew_arg_value\u001b[0m\u001b[0;34m\u001b[0m\u001b[0;34m\u001b[0m\u001b[0m\n\u001b[0;32m--> 211\u001b[0;31m             \u001b[0;32mreturn\u001b[0m \u001b[0mfunc\u001b[0m\u001b[0;34m(\u001b[0m\u001b[0;34m*\u001b[0m\u001b[0margs\u001b[0m\u001b[0;34m,\u001b[0m \u001b[0;34m**\u001b[0m\u001b[0mkwargs\u001b[0m\u001b[0;34m)\u001b[0m\u001b[0;34m\u001b[0m\u001b[0;34m\u001b[0m\u001b[0m\n\u001b[0m\u001b[1;32m    212\u001b[0m \u001b[0;34m\u001b[0m\u001b[0m\n\u001b[1;32m    213\u001b[0m         \u001b[0;32mreturn\u001b[0m \u001b[0mcast\u001b[0m\u001b[0;34m(\u001b[0m\u001b[0mF\u001b[0m\u001b[0;34m,\u001b[0m \u001b[0mwrapper\u001b[0m\u001b[0;34m)\u001b[0m\u001b[0;34m\u001b[0m\u001b[0;34m\u001b[0m\u001b[0m\n",
            "\u001b[0;32m/usr/local/lib/python3.10/dist-packages/pandas/util/_decorators.py\u001b[0m in \u001b[0;36mwrapper\u001b[0;34m(*args, **kwargs)\u001b[0m\n\u001b[1;32m    329\u001b[0m                     \u001b[0mstacklevel\u001b[0m\u001b[0;34m=\u001b[0m\u001b[0mfind_stack_level\u001b[0m\u001b[0;34m(\u001b[0m\u001b[0;34m)\u001b[0m\u001b[0;34m,\u001b[0m\u001b[0;34m\u001b[0m\u001b[0;34m\u001b[0m\u001b[0m\n\u001b[1;32m    330\u001b[0m                 )\n\u001b[0;32m--> 331\u001b[0;31m             \u001b[0;32mreturn\u001b[0m \u001b[0mfunc\u001b[0m\u001b[0;34m(\u001b[0m\u001b[0;34m*\u001b[0m\u001b[0margs\u001b[0m\u001b[0;34m,\u001b[0m \u001b[0;34m**\u001b[0m\u001b[0mkwargs\u001b[0m\u001b[0;34m)\u001b[0m\u001b[0;34m\u001b[0m\u001b[0;34m\u001b[0m\u001b[0m\n\u001b[0m\u001b[1;32m    332\u001b[0m \u001b[0;34m\u001b[0m\u001b[0m\n\u001b[1;32m    333\u001b[0m         \u001b[0;31m# error: \"Callable[[VarArg(Any), KwArg(Any)], Any]\" has no\u001b[0m\u001b[0;34m\u001b[0m\u001b[0;34m\u001b[0m\u001b[0m\n",
            "\u001b[0;32m/usr/local/lib/python3.10/dist-packages/pandas/io/parsers/readers.py\u001b[0m in \u001b[0;36mread_csv\u001b[0;34m(filepath_or_buffer, sep, delimiter, header, names, index_col, usecols, squeeze, prefix, mangle_dupe_cols, dtype, engine, converters, true_values, false_values, skipinitialspace, skiprows, skipfooter, nrows, na_values, keep_default_na, na_filter, verbose, skip_blank_lines, parse_dates, infer_datetime_format, keep_date_col, date_parser, dayfirst, cache_dates, iterator, chunksize, compression, thousands, decimal, lineterminator, quotechar, quoting, doublequote, escapechar, comment, encoding, encoding_errors, dialect, error_bad_lines, warn_bad_lines, on_bad_lines, delim_whitespace, low_memory, memory_map, float_precision, storage_options)\u001b[0m\n\u001b[1;32m    948\u001b[0m     \u001b[0mkwds\u001b[0m\u001b[0;34m.\u001b[0m\u001b[0mupdate\u001b[0m\u001b[0;34m(\u001b[0m\u001b[0mkwds_defaults\u001b[0m\u001b[0;34m)\u001b[0m\u001b[0;34m\u001b[0m\u001b[0;34m\u001b[0m\u001b[0m\n\u001b[1;32m    949\u001b[0m \u001b[0;34m\u001b[0m\u001b[0m\n\u001b[0;32m--> 950\u001b[0;31m     \u001b[0;32mreturn\u001b[0m \u001b[0m_read\u001b[0m\u001b[0;34m(\u001b[0m\u001b[0mfilepath_or_buffer\u001b[0m\u001b[0;34m,\u001b[0m \u001b[0mkwds\u001b[0m\u001b[0;34m)\u001b[0m\u001b[0;34m\u001b[0m\u001b[0;34m\u001b[0m\u001b[0m\n\u001b[0m\u001b[1;32m    951\u001b[0m \u001b[0;34m\u001b[0m\u001b[0m\n\u001b[1;32m    952\u001b[0m \u001b[0;34m\u001b[0m\u001b[0m\n",
            "\u001b[0;32m/usr/local/lib/python3.10/dist-packages/pandas/io/parsers/readers.py\u001b[0m in \u001b[0;36m_read\u001b[0;34m(filepath_or_buffer, kwds)\u001b[0m\n\u001b[1;32m    603\u001b[0m \u001b[0;34m\u001b[0m\u001b[0m\n\u001b[1;32m    604\u001b[0m     \u001b[0;31m# Create the parser.\u001b[0m\u001b[0;34m\u001b[0m\u001b[0;34m\u001b[0m\u001b[0m\n\u001b[0;32m--> 605\u001b[0;31m     \u001b[0mparser\u001b[0m \u001b[0;34m=\u001b[0m \u001b[0mTextFileReader\u001b[0m\u001b[0;34m(\u001b[0m\u001b[0mfilepath_or_buffer\u001b[0m\u001b[0;34m,\u001b[0m \u001b[0;34m**\u001b[0m\u001b[0mkwds\u001b[0m\u001b[0;34m)\u001b[0m\u001b[0;34m\u001b[0m\u001b[0;34m\u001b[0m\u001b[0m\n\u001b[0m\u001b[1;32m    606\u001b[0m \u001b[0;34m\u001b[0m\u001b[0m\n\u001b[1;32m    607\u001b[0m     \u001b[0;32mif\u001b[0m \u001b[0mchunksize\u001b[0m \u001b[0;32mor\u001b[0m \u001b[0miterator\u001b[0m\u001b[0;34m:\u001b[0m\u001b[0;34m\u001b[0m\u001b[0;34m\u001b[0m\u001b[0m\n",
            "\u001b[0;32m/usr/local/lib/python3.10/dist-packages/pandas/io/parsers/readers.py\u001b[0m in \u001b[0;36m__init__\u001b[0;34m(self, f, engine, **kwds)\u001b[0m\n\u001b[1;32m   1440\u001b[0m \u001b[0;34m\u001b[0m\u001b[0m\n\u001b[1;32m   1441\u001b[0m         \u001b[0mself\u001b[0m\u001b[0;34m.\u001b[0m\u001b[0mhandles\u001b[0m\u001b[0;34m:\u001b[0m \u001b[0mIOHandles\u001b[0m \u001b[0;34m|\u001b[0m \u001b[0;32mNone\u001b[0m \u001b[0;34m=\u001b[0m \u001b[0;32mNone\u001b[0m\u001b[0;34m\u001b[0m\u001b[0;34m\u001b[0m\u001b[0m\n\u001b[0;32m-> 1442\u001b[0;31m         \u001b[0mself\u001b[0m\u001b[0;34m.\u001b[0m\u001b[0m_engine\u001b[0m \u001b[0;34m=\u001b[0m \u001b[0mself\u001b[0m\u001b[0;34m.\u001b[0m\u001b[0m_make_engine\u001b[0m\u001b[0;34m(\u001b[0m\u001b[0mf\u001b[0m\u001b[0;34m,\u001b[0m \u001b[0mself\u001b[0m\u001b[0;34m.\u001b[0m\u001b[0mengine\u001b[0m\u001b[0;34m)\u001b[0m\u001b[0;34m\u001b[0m\u001b[0;34m\u001b[0m\u001b[0m\n\u001b[0m\u001b[1;32m   1443\u001b[0m \u001b[0;34m\u001b[0m\u001b[0m\n\u001b[1;32m   1444\u001b[0m     \u001b[0;32mdef\u001b[0m \u001b[0mclose\u001b[0m\u001b[0;34m(\u001b[0m\u001b[0mself\u001b[0m\u001b[0;34m)\u001b[0m \u001b[0;34m->\u001b[0m \u001b[0;32mNone\u001b[0m\u001b[0;34m:\u001b[0m\u001b[0;34m\u001b[0m\u001b[0;34m\u001b[0m\u001b[0m\n",
            "\u001b[0;32m/usr/local/lib/python3.10/dist-packages/pandas/io/parsers/readers.py\u001b[0m in \u001b[0;36m_make_engine\u001b[0;34m(self, f, engine)\u001b[0m\n\u001b[1;32m   1733\u001b[0m                 \u001b[0;32mif\u001b[0m \u001b[0;34m\"b\"\u001b[0m \u001b[0;32mnot\u001b[0m \u001b[0;32min\u001b[0m \u001b[0mmode\u001b[0m\u001b[0;34m:\u001b[0m\u001b[0;34m\u001b[0m\u001b[0;34m\u001b[0m\u001b[0m\n\u001b[1;32m   1734\u001b[0m                     \u001b[0mmode\u001b[0m \u001b[0;34m+=\u001b[0m \u001b[0;34m\"b\"\u001b[0m\u001b[0;34m\u001b[0m\u001b[0;34m\u001b[0m\u001b[0m\n\u001b[0;32m-> 1735\u001b[0;31m             self.handles = get_handle(\n\u001b[0m\u001b[1;32m   1736\u001b[0m                 \u001b[0mf\u001b[0m\u001b[0;34m,\u001b[0m\u001b[0;34m\u001b[0m\u001b[0;34m\u001b[0m\u001b[0m\n\u001b[1;32m   1737\u001b[0m                 \u001b[0mmode\u001b[0m\u001b[0;34m,\u001b[0m\u001b[0;34m\u001b[0m\u001b[0;34m\u001b[0m\u001b[0m\n",
            "\u001b[0;32m/usr/local/lib/python3.10/dist-packages/pandas/io/common.py\u001b[0m in \u001b[0;36mget_handle\u001b[0;34m(path_or_buf, mode, encoding, compression, memory_map, is_text, errors, storage_options)\u001b[0m\n\u001b[1;32m    854\u001b[0m         \u001b[0;32mif\u001b[0m \u001b[0mioargs\u001b[0m\u001b[0;34m.\u001b[0m\u001b[0mencoding\u001b[0m \u001b[0;32mand\u001b[0m \u001b[0;34m\"b\"\u001b[0m \u001b[0;32mnot\u001b[0m \u001b[0;32min\u001b[0m \u001b[0mioargs\u001b[0m\u001b[0;34m.\u001b[0m\u001b[0mmode\u001b[0m\u001b[0;34m:\u001b[0m\u001b[0;34m\u001b[0m\u001b[0;34m\u001b[0m\u001b[0m\n\u001b[1;32m    855\u001b[0m             \u001b[0;31m# Encoding\u001b[0m\u001b[0;34m\u001b[0m\u001b[0;34m\u001b[0m\u001b[0m\n\u001b[0;32m--> 856\u001b[0;31m             handle = open(\n\u001b[0m\u001b[1;32m    857\u001b[0m                 \u001b[0mhandle\u001b[0m\u001b[0;34m,\u001b[0m\u001b[0;34m\u001b[0m\u001b[0;34m\u001b[0m\u001b[0m\n\u001b[1;32m    858\u001b[0m                 \u001b[0mioargs\u001b[0m\u001b[0;34m.\u001b[0m\u001b[0mmode\u001b[0m\u001b[0;34m,\u001b[0m\u001b[0;34m\u001b[0m\u001b[0;34m\u001b[0m\u001b[0m\n",
            "\u001b[0;31mFileNotFoundError\u001b[0m: [Errno 2] No such file or directory: 'RGDP.csv'"
          ]
        }
      ]
    },
    {
      "cell_type": "code",
      "source": [
        "#DATA ANALYSIS\n",
        "print(\" \")\n",
        "print(\"Proceeding to data analysis...\")\n",
        "\n",
        "#Finding the correlation coefficient (r) and the p_value\n",
        "correlation_coeff = pearsonr(df['% growth (RGDP)'], df['% growth (Unemployment)'])[0]\n",
        "p_val = pearsonr(df['% growth (RGDP)'], df['% growth (Unemployment)'])[1]\n",
        "print(\"The value of r (the correlation coefficient) is %s.\" % correlation_coeff)\n",
        "print(\"The p-value (the probability of the data set existing assuming that H0 is true) is %s\" % p_val)"
      ],
      "metadata": {
        "id": "DB8lVPFrpBot"
      },
      "execution_count": null,
      "outputs": []
    },
    {
      "cell_type": "code",
      "source": [
        "#CONCLUSIONS\n",
        "#Although the datasets that are currently in use always rejects H0 and successfully verifies Okun's law, alternative conclusions are available in the case of other datasets being in use.\n",
        "print(\" \")\n",
        "print(\"The conclusions are as follows:\")\n",
        "if correlation_coeff < -.75:\n",
        "    print(\"As the correlation coefficient is near -1, it indicates a strong, negative, linear relationship between the change in RGDP and Unemployment over time.\")\n",
        "elif correlation_coeff >.75:\n",
        "    print(\"As the correlation coefficient is near +1, it indicates a strong, positive, linear relationship between the change in RGDP and Unemployment over time.\")\n",
        "else:\n",
        "    print(\"As the correlation coefficient is not significantly near -1 or +1, it does not indicate a clear linear relationship between the change in RGDP and Unemployment over time.\")\n",
        "if p_val <= alpha_level:\n",
        "    print(\"As the p_value (%s) is less than or equal to the alpha level (%s), we succeed in rejecting H0.\" % (p_val, alpha_level))\n",
        "    print(\"There is enough evidence to suggest a linear relationship between % Unemployment growth and Real GDP Growth in the US, which successfully verifies Okun's law\")\n",
        "else:\n",
        "    print(\"As the p_value (%s) is greater than the alpha level(%s), we fail to reject H0.\" % (p_val, alpha_level))\n",
        "    print(\"There is not enough evidence to suggest a linear relationship between % Unemployment growth and Real GDP Growth in the US, which fails to verify Okun's law\")\n"
      ],
      "metadata": {
        "id": "qo_MJuvmpQlo"
      },
      "execution_count": null,
      "outputs": []
    },
    {
      "cell_type": "markdown",
      "source": [
        "**Conclusion**\n",
        "\n",
        "As expected in the introduction, an analysis of the correlation between the change in US RGDP data and US unemployment data has indicated a strong correlation coefficient () and a very low p-value (). As the correlation coefficient always ranges between -1 and 1 and stronger correlations are indicated by correlation coefficients that are farther away from 0, a correlation coefficient of __ is said to indicate a strong negative correlation. For reference, an absolute value greater than .7 is a commonly accepted indication that a correlation coefficient is strong, and our value of __ passes this test. Additionally, the p-value (probability of such a strong correlation occuring if there is no actual linear relation) is lower than the widely accepted significance level of .05, meaning that H0 is statistically significant (unlikely to occur).\n",
        "\n",
        "We can then reject H0 (the claim that there is no linear relationship between US % Unemployment growth and Real GDP growth), and by default, Ha (Okun's law) is accepted. We have now successfully verified Okun's law through real-world data.\n",
        "\n",
        "However, there are many limitations to this verification. As I could only find quarterly data for US RGDP, I had to throw out 1/4 of the montly data for US Unemployment. The verification process would have been much more accurate if I had access to monthly US RGDP data, and of course, access to weekly or daily data would have made the verification even more accurate. Additionally, I chose to analyze the past 10 years' worth of data on the US economy under the assumption that economic cycles typically last shorter than 10 years. Although I believe that the data covered multiple economic cycles, a wider range of dates may have allowed the verification process to be even more precise."
      ],
      "metadata": {
        "id": "eRn933DvqaaD"
      }
    }
  ]
}